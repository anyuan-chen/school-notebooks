{
 "cells": [
  {
   "cell_type": "code",
   "execution_count": 43,
   "id": "ce9b94b2-92e8-4ae5-be8d-97ba0525bdaf",
   "metadata": {},
   "outputs": [
    {
     "name": "stdout",
     "output_type": "stream",
     "text": [
      "34.227999999999994\n"
     ]
    },
    {
     "data": {
      "image/png": "[encoded data removed]",
      "text/plain": [
       "<Figure size 432x288 with 1 Axes>"
      ]
     },
     "metadata": {
      "needs_background": "light"
     },
     "output_type": "display_data"
    }
   ],
   "source": [
    "import matplotlib.pyplot as plt\n",
    "\n",
    "time = np.array([]);\n",
    "for x in range(0, 5):\n",
    "    time = np.append(time, x/2)\n",
    "    \n",
    "time = np.append(time, 3)\n",
    "time = np.append(time, 4)\n",
    "time = np.append(time, 4.5)\n",
    "\n",
    "for x in range(5, 16):\n",
    "    time = np.append(time, x)\n",
    "\n",
    "\n",
    "values = np.array([23.25, 23.27, 23.28, 23.30, 23.30, 23.35, 23.44, 23.47, 23.47, 33.50, 33.55, 33.38, 33.12, 32.55, 32.20, 31.55, 31.26, 31.00, 30.75]);\n",
    "\n",
    "y=0+23.47\n",
    "\n",
    "# print(time)\n",
    "# print(values)\n",
    "plt.plot(time, values, 'o');\n",
    "plt.axvline(x=5)\n",
    "\n",
    "m, b = np.polyfit(time[9:], values[9:], 1)\n",
    "plt.plot(time, m*time+b )\n",
    "\n",
    "\n",
    "print(m * 5 + b)\n",
    "\n",
    "plt.xlabel('Time (min)')\n",
    "plt.ylabel('Temperature (degrees Celcius)')\n",
    "\n",
    "plt.show()\n"
   ]
  },
  {
   "cell_type": "code",
   "execution_count": null,
   "id": "66c442cf-d53d-4353-8eef-50fd0d3d03c3",
   "metadata": {},
   "outputs": [],
   "source": []
  },
  {
   "cell_type": "code",
   "execution_count": null,
   "id": "6a2f52ea-5481-4278-93bd-7786185357cd",
   "metadata": {},
   "outputs": [],
   "source": []
  },
  {
   "cell_type": "code",
   "execution_count": null,
   "id": "d71eab85-65ed-43dc-b4d8-cd8600d9da04",
   "metadata": {},
   "outputs": [],
   "source": []
  },
  {
   "cell_type": "code",
   "execution_count": null,
   "id": "8d4b8212-844a-44ee-b8a2-9127d20e5593",
   "metadata": {},
   "outputs": [],
   "source": []
  }
 ],
 "metadata": {
  "kernelspec": {
   "display_name": "Python 3 (ipykernel)",
   "language": "python",
   "name": "python3"
  },
  "language_info": {
   "codemirror_mode": {
    "name": "ipython",
    "version": 3
   },
   "file_extension": ".py",
   "mimetype": "text/x-python",
   "name": "python",
   "nbconvert_exporter": "python",
   "pygments_lexer": "ipython3",
   "version": "3.9.6"
  }
 },
 "nbformat": 4,
 "nbformat_minor": 5
}
