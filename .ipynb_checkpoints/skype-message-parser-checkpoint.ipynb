{
 "cells": [
  {
   "cell_type": "code",
   "execution_count": 21,
   "id": "443f61a4",
   "metadata": {},
   "outputs": [
    {
     "name": "stdout",
     "output_type": "stream",
     "text": [
      "              id     displayName       originalarrivaltime messagetype  \\\n",
      "0  1630347648166            None  2021-08-30T18:20:48.051Z    RichText   \n",
      "1  1630347641196            None  2021-08-30T18:20:41.089Z    RichText   \n",
      "2  1630347639414            None  2021-08-30T18:20:39.286Z    RichText   \n",
      "3  1630347621881            None  2021-08-30T18:20:21.759Z    RichText   \n",
      "4  1630340434407  Elizabeth Yuen  2021-08-30T16:20:33.244Z    RichText   \n",
      "\n",
      "        version                      content    conversationid  \\\n",
      "0  1.630348e+12               5/10 stan scle  8:live:blobbly19   \n",
      "1  1.630348e+12                   reasonable  8:live:blobbly19   \n",
      "2  1.630348e+12          not that delusional  8:live:blobbly19   \n",
      "3  1.630348e+12                   yknow what  8:live:blobbly19   \n",
      "4  1.630340e+12  the weirdest fucking things  8:live:blobbly19   \n",
      "\n",
      "                        from  properties amsreferences properties_urlpreviews  \\\n",
      "0  8:live:andrew.chen.anyuan         NaN          None                    NaN   \n",
      "1  8:live:andrew.chen.anyuan         NaN          None                    NaN   \n",
      "2  8:live:andrew.chen.anyuan         NaN          None                    NaN   \n",
      "3  8:live:andrew.chen.anyuan         NaN          None                    NaN   \n",
      "4           8:live:blobbly19         NaN          None                    NaN   \n",
      "\n",
      "  properties_albumId properties_edittime properties_isserversidegenerated  \\\n",
      "0                NaN                 NaN                              NaN   \n",
      "1                NaN                 NaN                              NaN   \n",
      "2                NaN                 NaN                              NaN   \n",
      "3                NaN                 NaN                              NaN   \n",
      "4                NaN                 NaN                              NaN   \n",
      "\n",
      "  properties_deletetime properties_emotions properties_forwardMetadata  \\\n",
      "0                   NaN                 NaN                        NaN   \n",
      "1                   NaN                 NaN                        NaN   \n",
      "2                   NaN                 NaN                        NaN   \n",
      "3                   NaN                 NaN                        NaN   \n",
      "4                   NaN                 NaN                        NaN   \n",
      "\n",
      "  properties_poll  \n",
      "0             NaN  \n",
      "1             NaN  \n",
      "2             NaN  \n",
      "3             NaN  \n",
      "4             NaN  \n"
     ]
    }
   ],
   "source": [
    "import json\n",
    "import pandas as pd\n",
    "\n",
    "with open('/Users/focus/Downloads/messages.json') as f:\n",
    "  data = json.load(f)\n",
    "  data = data['conversations'][0]['MessageList']\n",
    "#data['conversations'][1]['MessageList'][0]['content'] <- structure\n",
    "\n",
    "df = pd.json_normalize(data, sep='_')\n",
    "df = (df.loc[(df.messagetype==\"RichText\")])\n",
    "print(df.head())"
   ]
  },
  {
   "cell_type": "markdown",
   "id": "2965bceb",
   "metadata": {},
   "source": [
    "# Most Common Messages Sent"
   ]
  },
  {
   "cell_type": "code",
   "execution_count": 4,
   "id": "a1014a5e",
   "metadata": {},
   "outputs": [
    {
     "data": {
      "text/plain": [
       "yeah    1160\n",
       "         781\n",
       "oh       743\n",
       "no       579\n",
       "?        565\n",
       "Name: content, dtype: int64"
      ]
     },
     "execution_count": 4,
     "metadata": {},
     "output_type": "execute_result"
    }
   ],
   "source": [
    "df['content'].value_counts().head()"
   ]
  },
  {
   "cell_type": "code",
   "execution_count": 37,
   "id": "db1345b4",
   "metadata": {},
   "outputs": [
    {
     "ename": "AttributeError",
     "evalue": "'int' object has no attribute 'loc'",
     "output_type": "error",
     "traceback": [
      "\u001b[0;31m---------------------------------------------------------------------------\u001b[0m",
      "\u001b[0;31mAttributeError\u001b[0m                            Traceback (most recent call last)",
      "\u001b[0;32m/var/folders/8m/mk9g_6496ll_30dmn_kfwr0r0000gq/T/ipykernel_10787/403608334.py\u001b[0m in \u001b[0;36m<module>\u001b[0;34m\u001b[0m\n\u001b[1;32m      2\u001b[0m \u001b[0;31m#df[df.content.str.contains(\"shit\")].shape[0]/df.shape[0]\u001b[0m\u001b[0;34m\u001b[0m\u001b[0;34m\u001b[0m\u001b[0;34m\u001b[0m\u001b[0m\n\u001b[1;32m      3\u001b[0m \u001b[0;34m\u001b[0m\u001b[0m\n\u001b[0;32m----> 4\u001b[0;31m \u001b[0mdf\u001b[0m\u001b[0;34m.\u001b[0m\u001b[0mloc\u001b[0m\u001b[0;34m[\u001b[0m\u001b[0;34m(\u001b[0m\u001b[0mdf\u001b[0m\u001b[0;34m.\u001b[0m\u001b[0mcontent\u001b[0m\u001b[0;34m.\u001b[0m\u001b[0mstr\u001b[0m\u001b[0;34m.\u001b[0m\u001b[0mcontains\u001b[0m\u001b[0;34m(\u001b[0m\u001b[0;34m\"RichText\"\u001b[0m\u001b[0;34m)\u001b[0m\u001b[0;34m)\u001b[0m \u001b[0;34m&\u001b[0m \u001b[0;34m(\u001b[0m\u001b[0mdf\u001b[0m\u001b[0;34m[\u001b[0m\u001b[0;34m\"from\"\u001b[0m\u001b[0;34m]\u001b[0m\u001b[0;34m==\u001b[0m\u001b[0;34m\"8:live:andrew.chen.anyuan\"\u001b[0m\u001b[0;34m)\u001b[0m\u001b[0;34m]\u001b[0m\u001b[0;34m.\u001b[0m\u001b[0mshape\u001b[0m\u001b[0;34m[\u001b[0m\u001b[0;36m0\u001b[0m\u001b[0;34m]\u001b[0m\u001b[0;34m\u001b[0m\u001b[0;34m\u001b[0m\u001b[0m\n\u001b[0m",
      "\u001b[0;31mAttributeError\u001b[0m: 'int' object has no attribute 'loc'"
     ]
    }
   ],
   "source": [
    "#df.loc[df.content.str.contains(\"fuck\")) & [df[\"from\"]==\"8:live:andrew.chen.anyuan\"].shape[0]/df.shape[0]\n",
    "#df[df.content.str.contains(\"shit\")].shape[0]/df.shape[0]\n",
    "\n",
    "df.loc[(df.content.str.contains(\"RichText\")) & (df[\"from\"]==\"8:live:andrew.chen.anyuan\")].shape[0]\n"
   ]
  },
  {
   "cell_type": "code",
   "execution_count": null,
   "id": "df3c5db8",
   "metadata": {},
   "outputs": [],
   "source": []
  },
  {
   "cell_type": "code",
   "execution_count": null,
   "id": "46097063",
   "metadata": {},
   "outputs": [],
   "source": []
  },
  {
   "cell_type": "code",
   "execution_count": null,
   "id": "0a394421",
   "metadata": {},
   "outputs": [],
   "source": []
  }
 ],
 "metadata": {
  "kernelspec": {
   "display_name": "Python 3 (ipykernel)",
   "language": "python",
   "name": "python3"
  },
  "language_info": {
   "codemirror_mode": {
    "name": "ipython",
    "version": 3
   },
   "file_extension": ".py",
   "mimetype": "text/x-python",
   "name": "python",
   "nbconvert_exporter": "python",
   "pygments_lexer": "ipython3",
   "version": "3.9.6"
  }
 },
 "nbformat": 4,
 "nbformat_minor": 5
}
