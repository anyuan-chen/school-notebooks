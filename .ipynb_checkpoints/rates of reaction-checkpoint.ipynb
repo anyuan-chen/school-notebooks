{
 "cells": [
  {
   "cell_type": "code",
   "execution_count": 19,
   "id": "05e900d8",
   "metadata": {},
   "outputs": [
    {
     "data": {
      "text/plain": [
       "[<matplotlib.lines.Line2D at 0x130b241f0>]"
      ]
     },
     "execution_count": 19,
     "metadata": {},
     "output_type": "execute_result"
    },
    {
     "data": {
      "image/png": "[encoded data removed]",
      "text/plain": [
       "<Figure size 432x288 with 1 Axes>"
      ]
     },
     "metadata": {
      "needs_background": "light"
     },
     "output_type": "display_data"
    }
   ],
   "source": [
    "import matplotlib.pyplot as plt\n",
    "import numpy as np\n",
    "\n",
    "time = np.array([])\n",
    "for x in range (0,11):\n",
    "    time = np.append(time, x * 600)\n",
    "\n",
    "conc = np.array([0, 2.1, 3.6, 4.81, 5.61,6.4,6.7,7.11,7.52,7.71,7.8])\n",
    "for i in range(len(conc)):\n",
    "    conc[i] = conc[i] * 10 ** -3\n",
    "    \n",
    "plt.xlabel('Time (sec)')\n",
    "plt.ylabel('[O2] (mol/dm3)')\n",
    "\n",
    "plt.plot(time, conc, 'o' )\n"
   ]
  },
  {
   "cell_type": "code",
   "execution_count": null,
   "id": "0962e647",
   "metadata": {},
   "outputs": [],
   "source": []
  },
  {
   "cell_type": "code",
   "execution_count": null,
   "id": "a266a47e",
   "metadata": {},
   "outputs": [],
   "source": []
  },
  {
   "cell_type": "code",
   "execution_count": null,
   "id": "86239f12",
   "metadata": {},
   "outputs": [],
   "source": []
  },
  {
   "cell_type": "code",
   "execution_count": null,
   "id": "20070b51",
   "metadata": {},
   "outputs": [],
   "source": []
  }
 ],
 "metadata": {
  "kernelspec": {
   "display_name": "Python 3 (ipykernel)",
   "language": "python",
   "name": "python3"
  },
  "language_info": {
   "codemirror_mode": {
    "name": "ipython",
    "version": 3
   },
   "file_extension": ".py",
   "mimetype": "text/x-python",
   "name": "python",
   "nbconvert_exporter": "python",
   "pygments_lexer": "ipython3",
   "version": "3.9.6"
  }
 },
 "nbformat": 4,
 "nbformat_minor": 5
}
