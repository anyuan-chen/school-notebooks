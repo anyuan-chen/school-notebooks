{
 "cells": [
  {
   "cell_type": "code",
   "execution_count": 39,
   "id": "443f61a4",
   "metadata": {},
   "outputs": [],
   "source": [
    "import json\n",
    "import pandas as pd\n",
    "\n",
    "with open('/Users/focus/Downloads/messages.json') as f:\n",
    "  data = json.load(f)\n",
    "  data = data['conversations'][0]['MessageList']\n",
    "#data['conversations'][1]['MessageList'][0]['content'] <- structure\n",
    "\n",
    "df = pd.json_normalize(data, sep='_')\n",
    "df = (df.loc[(df.messagetype==\"RichText\")])\n"
   ]
  },
  {
   "cell_type": "markdown",
   "id": "2965bceb",
   "metadata": {},
   "source": [
    "# Most Common Messages Sent"
   ]
  },
  {
   "cell_type": "code",
   "execution_count": 4,
   "id": "a1014a5e",
   "metadata": {},
   "outputs": [
    {
     "data": {
      "text/plain": [
       "yeah    1160\n",
       "         781\n",
       "oh       743\n",
       "no       579\n",
       "?        565\n",
       "Name: content, dtype: int64"
      ]
     },
     "execution_count": 4,
     "metadata": {},
     "output_type": "execute_result"
    }
   ],
   "source": [
    "df['content'].value_counts().head()"
   ]
  },
  {
   "cell_type": "code",
   "execution_count": 42,
   "id": "db1345b4",
   "metadata": {},
   "outputs": [
    {
     "data": {
      "text/plain": [
       "1538"
      ]
     },
     "execution_count": 42,
     "metadata": {},
     "output_type": "execute_result"
    }
   ],
   "source": [
    "#df.loc[df.content.str.contains(\"fuck\")) & [df[\"from\"]==\"8:live:andrew.chen.anyuan\"].shape[0]/df.shape[0]\n",
    "#df[df.content.str.contains(\"shit\")].shape[0]/df.shape[0]\n",
    "\n",
    "print(df.loc[(df.content.str.contains(\"fuck\")) & (df[\"from\"]==\"8:live:andrew.chen.anyuan\")].shape[0])\n",
    "print(df.loc[(df.content.str.contains(\"fuck\")) & (df[\"from\"]!=\"8:live:andrew.chen.anyuan\")].shape[0])\n",
    "     )\n"
   ]
  },
  {
   "cell_type": "code",
   "execution_count": null,
   "id": "df3c5db8",
   "metadata": {},
   "outputs": [],
   "source": []
  },
  {
   "cell_type": "code",
   "execution_count": null,
   "id": "46097063",
   "metadata": {},
   "outputs": [],
   "source": []
  },
  {
   "cell_type": "code",
   "execution_count": null,
   "id": "0a394421",
   "metadata": {},
   "outputs": [],
   "source": []
  }
 ],
 "metadata": {
  "kernelspec": {
   "display_name": "Python 3 (ipykernel)",
   "language": "python",
   "name": "python3"
  },
  "language_info": {
   "codemirror_mode": {
    "name": "ipython",
    "version": 3
   },
   "file_extension": ".py",
   "mimetype": "text/x-python",
   "name": "python",
   "nbconvert_exporter": "python",
   "pygments_lexer": "ipython3",
   "version": "3.9.6"
  }
 },
 "nbformat": 4,
 "nbformat_minor": 5
}
